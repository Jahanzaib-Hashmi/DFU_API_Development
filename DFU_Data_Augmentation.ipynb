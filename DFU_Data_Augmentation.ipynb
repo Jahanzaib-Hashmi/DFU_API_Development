{
 "cells": [
  {
   "cell_type": "code",
   "execution_count": 7,
   "id": "2219ad2f-43be-4732-bb9e-f16bd762736c",
   "metadata": {},
   "outputs": [
    {
     "name": "stdout",
     "output_type": "stream",
     "text": [
      "Number of original images: 543\n",
      "Number of new images needed: 301\n",
      "Augmentation complete!\n"
     ]
    }
   ],
   "source": [
    "import os\n",
    "import numpy as np\n",
    "from tensorflow.keras.preprocessing.image import ImageDataGenerator, img_to_array, load_img\n",
    "import random\n",
    "\n",
    "# Create the ImageDataGenerator instance\n",
    "datagen = ImageDataGenerator(\n",
    "        rotation_range=40,\n",
    "        width_shift_range=0.2,\n",
    "        height_shift_range=0.2,\n",
    "        shear_range=0.1,\n",
    "        zoom_range=0.2,\n",
    "        horizontal_flip=True,\n",
    "        fill_mode='nearest')\n",
    "\n",
    "# Path to the dataset and output directory\n",
    "# input_directory = 'Z:/DFU_Kaggle/DFU/Patches/Abnormal(Ulcer)'\n",
    "# output_directory = 'Z:/DFU_Kaggle/DFU(Aug)/Abnormal(Ulcer)'\n",
    "\n",
    "input_directory = 'Z:/DFU_Kaggle/DFU/Patches/Normal(Healthy skin)'\n",
    "output_directory = 'Z:/DFU_Kaggle/DFU(Aug)/Normal(Healthy skin)'\n",
    "\n",
    "# Ensure the output directory exists\n",
    "os.makedirs(output_directory, exist_ok=True)\n",
    "\n",
    "# Get the list of image files in the input directory\n",
    "image_files = [f for f in os.listdir(input_directory) if f.lower().endswith(('.png', '.jpg', '.jpeg'))]\n",
    "num_original_images = len(image_files)\n",
    "print(f'Number of original images: {num_original_images}')\n",
    "\n",
    "# Calculate the number of new images needed\n",
    "desired_num_images = 844\n",
    "num_needed = desired_num_images - num_original_images\n",
    "print(f'Number of new images needed: {num_needed}')\n",
    "\n",
    "# Shuffle the list of images to ensure random selection\n",
    "random.shuffle(image_files)\n",
    "\n",
    "# Track augmented images\n",
    "augmented_images = set()\n",
    "\n",
    "# Function to augment images\n",
    "def augment_images(img_file, num_needed):\n",
    "    img = load_img(os.path.join(input_directory, img_file))  # Load the image\n",
    "    x = img_to_array(img)  # Convert image to array\n",
    "    x = x.reshape((1,) + x.shape)  # Reshape to (1, height, width, channels)\n",
    "    \n",
    "    # Generate augmented images and save them\n",
    "    i = 0\n",
    "    for batch in datagen.flow(x, batch_size=1, save_to_dir=output_directory, save_prefix='aug', save_format='jpeg'):\n",
    "        i += 1\n",
    "        if i >= num_needed:\n",
    "            break\n",
    "\n",
    "# Process each image file to generate augmentations\n",
    "for img_file in image_files:\n",
    "    if img_file not in augmented_images:\n",
    "        augment_images(img_file, num_needed)\n",
    "        augmented_images.add(img_file)\n",
    "        num_needed -= len(os.listdir(output_directory)) - num_original_images\n",
    "        if num_needed <= 0:\n",
    "            break\n",
    "\n",
    "print('Augmentation complete!')\n"
   ]
  },
  {
   "cell_type": "code",
   "execution_count": null,
   "id": "113d515b-d5dd-452c-904c-b8021909b788",
   "metadata": {},
   "outputs": [],
   "source": []
  }
 ],
 "metadata": {
  "kernelspec": {
   "display_name": "Python 3 (ipykernel)",
   "language": "python",
   "name": "python3"
  },
  "language_info": {
   "codemirror_mode": {
    "name": "ipython",
    "version": 3
   },
   "file_extension": ".py",
   "mimetype": "text/x-python",
   "name": "python",
   "nbconvert_exporter": "python",
   "pygments_lexer": "ipython3",
   "version": "3.10.14"
  }
 },
 "nbformat": 4,
 "nbformat_minor": 5
}
